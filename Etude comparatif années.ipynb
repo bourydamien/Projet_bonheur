{
 "cells": [
  {
   "cell_type": "code",
   "execution_count": 1,
   "id": "e10dc2f9",
   "metadata": {},
   "outputs": [],
   "source": [
    "import pandas as pd\n",
    "import seaborn as sns\n",
    "import numpy as np\n",
    "from wordcloud import WordCloud\n",
    "import matplotlib.pyplot as plt\n",
    "import numpy as np\n",
    "from PIL import Image\n",
    "from scipy import stats"
   ]
  },
  {
   "cell_type": "code",
   "execution_count": 2,
   "id": "6dd35281",
   "metadata": {},
   "outputs": [],
   "source": [
    "df=pd.read_csv(\"comparaison_annees.csv\")"
   ]
  },
  {
   "cell_type": "code",
   "execution_count": 3,
   "id": "5ca2017f",
   "metadata": {},
   "outputs": [
    {
     "data": {
      "text/html": [
       "<div>\n",
       "<style scoped>\n",
       "    .dataframe tbody tr th:only-of-type {\n",
       "        vertical-align: middle;\n",
       "    }\n",
       "\n",
       "    .dataframe tbody tr th {\n",
       "        vertical-align: top;\n",
       "    }\n",
       "\n",
       "    .dataframe thead th {\n",
       "        text-align: right;\n",
       "    }\n",
       "</style>\n",
       "<table border=\"1\" class=\"dataframe\">\n",
       "  <thead>\n",
       "    <tr style=\"text-align: right;\">\n",
       "      <th></th>\n",
       "      <th>2019</th>\n",
       "      <th>2020</th>\n",
       "      <th>2021</th>\n",
       "      <th>2022</th>\n",
       "      <th>Score2019</th>\n",
       "      <th>Score2020</th>\n",
       "      <th>Score2021</th>\n",
       "      <th>Score2022</th>\n",
       "    </tr>\n",
       "  </thead>\n",
       "  <tbody>\n",
       "    <tr>\n",
       "      <th>0</th>\n",
       "      <td>Finland</td>\n",
       "      <td>Finland</td>\n",
       "      <td>Finland</td>\n",
       "      <td>Finland</td>\n",
       "      <td>7.769</td>\n",
       "      <td>7.8087</td>\n",
       "      <td>7.8421</td>\n",
       "      <td>7.8210</td>\n",
       "    </tr>\n",
       "    <tr>\n",
       "      <th>1</th>\n",
       "      <td>Denmark</td>\n",
       "      <td>Denmark</td>\n",
       "      <td>Denmark</td>\n",
       "      <td>Denmark</td>\n",
       "      <td>7.600</td>\n",
       "      <td>7.6456</td>\n",
       "      <td>7.6195</td>\n",
       "      <td>7.6362</td>\n",
       "    </tr>\n",
       "    <tr>\n",
       "      <th>2</th>\n",
       "      <td>Norway</td>\n",
       "      <td>Switzerland</td>\n",
       "      <td>Switzerland</td>\n",
       "      <td>Iceland</td>\n",
       "      <td>7.554</td>\n",
       "      <td>7.5599</td>\n",
       "      <td>7.5715</td>\n",
       "      <td>7.5575</td>\n",
       "    </tr>\n",
       "    <tr>\n",
       "      <th>3</th>\n",
       "      <td>Iceland</td>\n",
       "      <td>Iceland</td>\n",
       "      <td>Iceland</td>\n",
       "      <td>Switzerland</td>\n",
       "      <td>7.494</td>\n",
       "      <td>7.5045</td>\n",
       "      <td>7.5539</td>\n",
       "      <td>7.5116</td>\n",
       "    </tr>\n",
       "    <tr>\n",
       "      <th>4</th>\n",
       "      <td>Netherlands</td>\n",
       "      <td>Norway</td>\n",
       "      <td>Netherlands</td>\n",
       "      <td>Netherlands</td>\n",
       "      <td>7.488</td>\n",
       "      <td>7.4880</td>\n",
       "      <td>7.4640</td>\n",
       "      <td>7.4149</td>\n",
       "    </tr>\n",
       "  </tbody>\n",
       "</table>\n",
       "</div>"
      ],
      "text/plain": [
       "          2019         2020         2021         2022  Score2019  Score2020  \\\n",
       "0      Finland      Finland      Finland      Finland      7.769     7.8087   \n",
       "1      Denmark      Denmark      Denmark      Denmark      7.600     7.6456   \n",
       "2       Norway  Switzerland  Switzerland      Iceland      7.554     7.5599   \n",
       "3      Iceland      Iceland      Iceland  Switzerland      7.494     7.5045   \n",
       "4  Netherlands       Norway  Netherlands  Netherlands      7.488     7.4880   \n",
       "\n",
       "   Score2021  Score2022  \n",
       "0     7.8421     7.8210  \n",
       "1     7.6195     7.6362  \n",
       "2     7.5715     7.5575  \n",
       "3     7.5539     7.5116  \n",
       "4     7.4640     7.4149  "
      ]
     },
     "execution_count": 3,
     "metadata": {},
     "output_type": "execute_result"
    }
   ],
   "source": [
    "df.head()"
   ]
  },
  {
   "cell_type": "markdown",
   "id": "f39cd575",
   "metadata": {},
   "source": [
    "comparons les scores des années afin de voir les évolutions"
   ]
  },
  {
   "cell_type": "markdown",
   "id": "c2185209",
   "metadata": {},
   "source": [
    "évolution du score entre 2019 et 2020"
   ]
  },
  {
   "cell_type": "code",
   "execution_count": null,
   "id": "aecfa866",
   "metadata": {},
   "outputs": [],
   "source": [
    "for pays in\n",
    "    \n",
    "    "
   ]
  }
 ],
 "metadata": {
  "kernelspec": {
   "display_name": "Python 3",
   "language": "python",
   "name": "python3"
  },
  "language_info": {
   "codemirror_mode": {
    "name": "ipython",
    "version": 3
   },
   "file_extension": ".py",
   "mimetype": "text/x-python",
   "name": "python",
   "nbconvert_exporter": "python",
   "pygments_lexer": "ipython3",
   "version": "3.8.8"
  }
 },
 "nbformat": 4,
 "nbformat_minor": 5
}
